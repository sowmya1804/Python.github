{
 "cells": [
  {
   "cell_type": "markdown",
   "id": "ef5a6a47",
   "metadata": {},
   "source": [
    "# Usage of Continue with an example\n",
    "   The continue statement is used to skip the rest of the code inside a loop for the current iteration only. Loop does not\n",
    "   terminate but continues on with the next iteration.\n",
    "   synatx: continue"
   ]
  },
  {
   "cell_type": "markdown",
   "id": "f42b7d86",
   "metadata": {},
   "source": [
    "# continue example"
   ]
  },
  {
   "cell_type": "code",
   "execution_count": 1,
   "id": "32d1220e",
   "metadata": {},
   "outputs": [
    {
     "name": "stdout",
     "output_type": "stream",
     "text": [
      "c\n",
      "o\n",
      "n\n",
      "t\n",
      "i\n",
      "n\n",
      "e\n"
     ]
    }
   ],
   "source": [
    "for i in \"continue\":        #using for loop\n",
    "    if(i==\"u\"):\n",
    "        continue\n",
    "    else:\n",
    "        print(i)"
   ]
  },
  {
   "cell_type": "code",
   "execution_count": 2,
   "id": "58071c1d",
   "metadata": {},
   "outputs": [
    {
     "name": "stdout",
     "output_type": "stream",
     "text": [
      "6\n",
      "7\n",
      "8\n",
      "9\n",
      "11\n",
      "12\n",
      "13\n",
      "14\n"
     ]
    }
   ],
   "source": [
    "i=5                         #using while loop\n",
    "while(i<15):\n",
    "    i=i+1\n",
    "    if(i%5==0):\n",
    "        continue\n",
    "    else:\n",
    "        print(i)"
   ]
  },
  {
   "cell_type": "markdown",
   "id": "ed1a1b3e",
   "metadata": {},
   "source": [
    "# pass keyword with example\n",
    "   The pass statement in python is used when a statement is required syntactically but you do not want any command or code to      execute. It is like null operation, as nothing will happen it is executed. pass stement can also be used for writing empty      loops.\n",
    "   syntax: pass"
   ]
  },
  {
   "cell_type": "code",
   "execution_count": 9,
   "id": "84e4209b",
   "metadata": {},
   "outputs": [],
   "source": [
    "if(4>2):\n",
    "    pass\n",
    "else:\n",
    "    \"a\""
   ]
  },
  {
   "cell_type": "code",
   "execution_count": 10,
   "id": "4ebfe0dd",
   "metadata": {},
   "outputs": [
    {
     "name": "stdout",
     "output_type": "stream",
     "text": [
      "2\n",
      "3\n",
      "4\n"
     ]
    }
   ],
   "source": [
    "for i in [1,2,3,4]:\n",
    "    if(i==1):\n",
    "        pass\n",
    "    else:\n",
    "        print(i)"
   ]
  }
 ],
 "metadata": {
  "kernelspec": {
   "display_name": "Python 3",
   "language": "python",
   "name": "python3"
  },
  "language_info": {
   "codemirror_mode": {
    "name": "ipython",
    "version": 3
   },
   "file_extension": ".py",
   "mimetype": "text/x-python",
   "name": "python",
   "nbconvert_exporter": "python",
   "pygments_lexer": "ipython3",
   "version": "3.8.8"
  }
 },
 "nbformat": 4,
 "nbformat_minor": 5
}
