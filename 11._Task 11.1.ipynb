{
 "cells": [
  {
   "cell_type": "markdown",
   "id": "a4d2a70e",
   "metadata": {},
   "source": [
    "# return keyword with example\n",
    "\n",
    "   It is used to return the values from a function.Statements below the return keyword will not get executed."
   ]
  },
  {
   "cell_type": "code",
   "execution_count": 1,
   "id": "31c2737b",
   "metadata": {},
   "outputs": [
    {
     "data": {
      "text/plain": [
       "2.0"
      ]
     },
     "execution_count": 1,
     "metadata": {},
     "output_type": "execute_result"
    }
   ],
   "source": [
    "def division(x,y):\n",
    "    z=x/y\n",
    "    return z\n",
    "    print(z)\n",
    "division(20,10)"
   ]
  },
  {
   "cell_type": "code",
   "execution_count": 4,
   "id": "011a4866",
   "metadata": {},
   "outputs": [
    {
     "data": {
      "text/plain": [
       "6000"
      ]
     },
     "execution_count": 4,
     "metadata": {},
     "output_type": "execute_result"
    }
   ],
   "source": [
    "def multi(x,y=10,z=20):\n",
    "    a=x*y*z\n",
    "    return a\n",
    "    print(a)\n",
    "multi(30)"
   ]
  },
  {
   "cell_type": "code",
   "execution_count": 7,
   "id": "aa26efec",
   "metadata": {},
   "outputs": [
    {
     "name": "stdout",
     "output_type": "stream",
     "text": [
      "5\n"
     ]
    }
   ],
   "source": [
    "def subtract(x,y=5):\n",
    "    a=x-y\n",
    "    return a\n",
    "    print(a)\n",
    "my_num=subtract(20,15)\n",
    "print(my_num)"
   ]
  }
 ],
 "metadata": {
  "kernelspec": {
   "display_name": "Python 3",
   "language": "python",
   "name": "python3"
  },
  "language_info": {
   "codemirror_mode": {
    "name": "ipython",
    "version": 3
   },
   "file_extension": ".py",
   "mimetype": "text/x-python",
   "name": "python",
   "nbconvert_exporter": "python",
   "pygments_lexer": "ipython3",
   "version": "3.8.8"
  }
 },
 "nbformat": 4,
 "nbformat_minor": 5
}
