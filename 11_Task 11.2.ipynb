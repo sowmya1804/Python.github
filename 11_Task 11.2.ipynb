{
 "cells": [
  {
   "cell_type": "code",
   "execution_count": 1,
   "id": "58118394",
   "metadata": {},
   "outputs": [
    {
     "name": "stdout",
     "output_type": "stream",
     "text": [
      "enter 1st number:4\n",
      "enter 2nd number:5\n",
      "enter which operation to perform:\n",
      "press:1 for addition,2 for subtraction,3 for multiplicaton,4 for division3\n",
      "4 * 5 : 20\n"
     ]
    }
   ],
   "source": [
    "num1=int(input(\"enter 1st number:\"))\n",
    "num2=int(input(\"enter 2nd number:\"))\n",
    "print(\"enter which operation to perform:\")\n",
    "char=input(\"press:1 for addition,2 for subtraction,3 for multiplicaton,4 for division\")\n",
    "def add():\n",
    "    num3=num1+num2\n",
    "    print(num1,\"+\",num2,\":\",num3)\n",
    "def sub():\n",
    "    num3=num1-num2\n",
    "    print(num1,\"-\",num2,\":\",num3)\n",
    "def multi():\n",
    "    num3=num1*num2\n",
    "    print(num1,\"*\",num2,\":\",num3)\n",
    "def div():\n",
    "    num3=num1/num2\n",
    "    print(num1,\"/\",num2,\":\",num3)\n",
    "if(char == '1'):\n",
    "    add()\n",
    "elif(char == '2'):\n",
    "    sub()\n",
    "elif(char == '3'):\n",
    "    multi()\n",
    "elif(char == '4'):\n",
    "    div()\n",
    "else:\n",
    "    print(\"input character is not recognized\")"
   ]
  }
 ],
 "metadata": {
  "kernelspec": {
   "display_name": "Python 3",
   "language": "python",
   "name": "python3"
  },
  "language_info": {
   "codemirror_mode": {
    "name": "ipython",
    "version": 3
   },
   "file_extension": ".py",
   "mimetype": "text/x-python",
   "name": "python",
   "nbconvert_exporter": "python",
   "pygments_lexer": "ipython3",
   "version": "3.8.8"
  }
 },
 "nbformat": 4,
 "nbformat_minor": 5
}
