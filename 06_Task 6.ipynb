{
 "cells": [
  {
   "cell_type": "markdown",
   "id": "ea3f3022",
   "metadata": {},
   "source": [
    "# Add and Remove the elements from a tuple"
   ]
  },
  {
   "cell_type": "code",
   "execution_count": 2,
   "id": "a78561d0",
   "metadata": {},
   "outputs": [
    {
     "name": "stdout",
     "output_type": "stream",
     "text": [
      "(1, 2, 3, 4, 5, 6, 7)\n"
     ]
    }
   ],
   "source": [
    "tup = (1,2,3,4,5)                          # to add the elements into tuple by using append()\n",
    "l1 = list(tup)               \n",
    "l1.append(6)\n",
    "l1.append(7)\n",
    "tup = tuple(l1)\n",
    "print(tup)"
   ]
  },
  {
   "cell_type": "code",
   "execution_count": 3,
   "id": "3d9d9481",
   "metadata": {},
   "outputs": [
    {
     "name": "stdout",
     "output_type": "stream",
     "text": [
      "(1, 2, 5)\n"
     ]
    }
   ],
   "source": [
    "tup = (1,2,3,4,5)                          # to remove the elements from tuple using remove()\n",
    "l1 = list(tup)\n",
    "l1.remove(3)\n",
    "l1.remove(4)\n",
    "tup = tuple(l1)\n",
    "print(tup)"
   ]
  }
 ],
 "metadata": {
  "kernelspec": {
   "display_name": "Python 3",
   "language": "python",
   "name": "python3"
  },
  "language_info": {
   "codemirror_mode": {
    "name": "ipython",
    "version": 3
   },
   "file_extension": ".py",
   "mimetype": "text/x-python",
   "name": "python",
   "nbconvert_exporter": "python",
   "pygments_lexer": "ipython3",
   "version": "3.8.8"
  }
 },
 "nbformat": 4,
 "nbformat_minor": 5
}
