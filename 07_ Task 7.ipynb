{
 "cells": [
  {
   "cell_type": "markdown",
   "id": "6ab94aa6",
   "metadata": {},
   "source": [
    "# difference() , symmetric_difference()"
   ]
  },
  {
   "cell_type": "code",
   "execution_count": 1,
   "id": "10c087e2",
   "metadata": {},
   "outputs": [
    {
     "name": "stdout",
     "output_type": "stream",
     "text": [
      "{20, 30}\n"
     ]
    }
   ],
   "source": [
    "set1={20,30,40,50,60}                    # returns the elements in set1 using difference()\n",
    "set2={40,50,60,70,80}\n",
    "print(set1.difference(set2))"
   ]
  },
  {
   "cell_type": "code",
   "execution_count": 2,
   "id": "29d32172",
   "metadata": {},
   "outputs": [
    {
     "name": "stdout",
     "output_type": "stream",
     "text": [
      "{80, 70}\n"
     ]
    }
   ],
   "source": [
    "print(set2.difference(set1))             # returns the elements from set2 "
   ]
  },
  {
   "cell_type": "code",
   "execution_count": 3,
   "id": "f00cc7f8",
   "metadata": {},
   "outputs": [
    {
     "name": "stdout",
     "output_type": "stream",
     "text": [
      "{'e', 'f', 'g', 'a', 'b'}\n"
     ]
    }
   ],
   "source": [
    "set1 = {\"a\",\"b\",\"c\",\"d\"}                 # returns the elements from set1 or set2 but not intersections between two\n",
    "set2 = {\"c\",\"d\",\"e\",\"f\",\"g\"}             #symmetric_difference()\n",
    "print(set1.symmetric_difference(set2))"
   ]
  },
  {
   "cell_type": "code",
   "execution_count": 4,
   "id": "ade2fd8f",
   "metadata": {},
   "outputs": [
    {
     "name": "stdout",
     "output_type": "stream",
     "text": [
      "{'e', 'g', 'f', 'a', 'b'}\n"
     ]
    }
   ],
   "source": [
    "print(set2.symmetric_difference(set1))"
   ]
  }
 ],
 "metadata": {
  "kernelspec": {
   "display_name": "Python 3",
   "language": "python",
   "name": "python3"
  },
  "language_info": {
   "codemirror_mode": {
    "name": "ipython",
    "version": 3
   },
   "file_extension": ".py",
   "mimetype": "text/x-python",
   "name": "python",
   "nbconvert_exporter": "python",
   "pygments_lexer": "ipython3",
   "version": "3.8.8"
  }
 },
 "nbformat": 4,
 "nbformat_minor": 5
}
