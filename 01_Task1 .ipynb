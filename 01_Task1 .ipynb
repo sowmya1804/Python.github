{
 "cells": [
  {
   "cell_type": "code",
   "execution_count": 1,
   "id": "2ffba0e5",
   "metadata": {},
   "outputs": [
    {
     "data": {
      "text/plain": [
       "5"
      ]
     },
     "execution_count": 1,
     "metadata": {},
     "output_type": "execute_result"
    }
   ],
   "source": [
    "a=\"hello\"   #length of a string\n",
    "len(a)"
   ]
  },
  {
   "cell_type": "code",
   "execution_count": 2,
   "id": "88163a37",
   "metadata": {},
   "outputs": [
    {
     "data": {
      "text/plain": [
       "'HELLO'"
      ]
     },
     "execution_count": 2,
     "metadata": {},
     "output_type": "execute_result"
    }
   ],
   "source": [
    "a=\"hello\"   #returns in upercase letters\n",
    "a.upper()"
   ]
  },
  {
   "cell_type": "code",
   "execution_count": 3,
   "id": "11b74ee8",
   "metadata": {},
   "outputs": [
    {
     "name": "stdout",
     "output_type": "stream",
     "text": [
      "hello world\n"
     ]
    }
   ],
   "source": [
    "print(\"hello world\")   #prints the message"
   ]
  },
  {
   "cell_type": "code",
   "execution_count": 11,
   "id": "ce1166ab",
   "metadata": {},
   "outputs": [
    {
     "data": {
      "text/plain": [
       "4"
      ]
     },
     "execution_count": 11,
     "metadata": {},
     "output_type": "execute_result"
    }
   ],
   "source": [
    "abs(-4)  #returns the absolute value"
   ]
  },
  {
   "cell_type": "code",
   "execution_count": 12,
   "id": "e7548596",
   "metadata": {},
   "outputs": [
    {
     "data": {
      "text/plain": [
       "1.3333333333333333"
      ]
     },
     "execution_count": 12,
     "metadata": {},
     "output_type": "execute_result"
    }
   ],
   "source": [
    "abs(-4/3)"
   ]
  },
  {
   "cell_type": "code",
   "execution_count": 13,
   "id": "43d330c2",
   "metadata": {},
   "outputs": [
    {
     "data": {
      "text/plain": [
       "-1"
      ]
     },
     "execution_count": 13,
     "metadata": {},
     "output_type": "execute_result"
    }
   ],
   "source": [
    "round(-4/3)  #returns the rounded value of a numeric value"
   ]
  },
  {
   "cell_type": "code",
   "execution_count": 14,
   "id": "7f21a65d",
   "metadata": {},
   "outputs": [
    {
     "data": {
      "text/plain": [
       "0"
      ]
     },
     "execution_count": 14,
     "metadata": {},
     "output_type": "execute_result"
    }
   ],
   "source": [
    "min(1,3,5,0)  #returns the least value"
   ]
  },
  {
   "cell_type": "code",
   "execution_count": 15,
   "id": "ddd87b49",
   "metadata": {},
   "outputs": [
    {
     "data": {
      "text/plain": [
       "9"
      ]
     },
     "execution_count": 15,
     "metadata": {},
     "output_type": "execute_result"
    }
   ],
   "source": [
    "max(5,2,7,9)  #returns the max value"
   ]
  },
  {
   "cell_type": "code",
   "execution_count": 19,
   "id": "a68733a6",
   "metadata": {},
   "outputs": [
    {
     "data": {
      "text/plain": [
       "[1, 2, 4]"
      ]
     },
     "execution_count": 19,
     "metadata": {},
     "output_type": "execute_result"
    }
   ],
   "source": [
    "a=[4,2,1]    #sorts a list in ascending order\n",
    "sorted(a)"
   ]
  },
  {
   "cell_type": "code",
   "execution_count": 20,
   "id": "e41d6809",
   "metadata": {},
   "outputs": [
    {
     "data": {
      "text/plain": [
       "6"
      ]
     },
     "execution_count": 20,
     "metadata": {},
     "output_type": "execute_result"
    }
   ],
   "source": [
    "a=[2,3,1]   #sums a list\n",
    "sum(a)"
   ]
  },
  {
   "cell_type": "code",
   "execution_count": 21,
   "id": "4c5c8394",
   "metadata": {},
   "outputs": [
    {
     "data": {
      "text/plain": [
       "1.9666666666666666"
      ]
     },
     "execution_count": 21,
     "metadata": {},
     "output_type": "execute_result"
    }
   ],
   "source": [
    "b=[1/2,2/3,4/5]\n",
    "sum(b)"
   ]
  },
  {
   "cell_type": "code",
   "execution_count": 22,
   "id": "4fcd40b8",
   "metadata": {},
   "outputs": [
    {
     "data": {
      "text/plain": [
       "str"
      ]
     },
     "execution_count": 22,
     "metadata": {},
     "output_type": "execute_result"
    }
   ],
   "source": [
    "a=\"hello\"\n",
    "type(a)"
   ]
  },
  {
   "cell_type": "code",
   "execution_count": 23,
   "id": "d242c442",
   "metadata": {},
   "outputs": [
    {
     "data": {
      "text/plain": [
       "'hello'"
      ]
     },
     "execution_count": 23,
     "metadata": {},
     "output_type": "execute_result"
    }
   ],
   "source": [
    "a=\"HEllO\"  #returns in lowercase letters\n",
    "a.lower()"
   ]
  },
  {
   "cell_type": "code",
   "execution_count": 24,
   "id": "6377b413",
   "metadata": {},
   "outputs": [
    {
     "data": {
      "text/plain": [
       "'mug'"
      ]
     },
     "execution_count": 24,
     "metadata": {},
     "output_type": "execute_result"
    }
   ],
   "source": [
    "a=\" mug \"   #it removes the whitespaces\n",
    "a.strip()"
   ]
  },
  {
   "cell_type": "code",
   "execution_count": 26,
   "id": "e9330310",
   "metadata": {},
   "outputs": [
    {
     "data": {
      "text/plain": [
       "'cap'"
      ]
     },
     "execution_count": 26,
     "metadata": {},
     "output_type": "execute_result"
    }
   ],
   "source": [
    "a=\"cat\"      #replaces a given string with another string\n",
    "a.replace(\"t\",\"p\")"
   ]
  },
  {
   "cell_type": "code",
   "execution_count": 29,
   "id": "922e4279",
   "metadata": {},
   "outputs": [
    {
     "data": {
      "text/plain": [
       "['hello', 'world']"
      ]
     },
     "execution_count": 29,
     "metadata": {},
     "output_type": "execute_result"
    }
   ],
   "source": [
    "a=\"hello world\"   #splits your string into a list\n",
    "a.split(\" \")"
   ]
  },
  {
   "cell_type": "code",
   "execution_count": 32,
   "id": "3a1c6f24",
   "metadata": {},
   "outputs": [
    {
     "data": {
      "text/plain": [
       "'hello world'"
      ]
     },
     "execution_count": 32,
     "metadata": {},
     "output_type": "execute_result"
    }
   ],
   "source": [
    "a=[\"hello\",\"world\"]  #joins elements of a list into one string\n",
    "\" \".join(a)"
   ]
  },
  {
   "cell_type": "code",
   "execution_count": 36,
   "id": "010b3679",
   "metadata": {},
   "outputs": [
    {
     "name": "stdout",
     "output_type": "stream",
     "text": [
      "[2, 'hello', 'h', 1, 31.2, 'world', 45]\n"
     ]
    }
   ],
   "source": [
    "a=[2,\"hello\",\"h\",1,31.2]  #adds an element to the end of your list\n",
    "a.append(\"world\")\n",
    "a.append(45)\n",
    "print(a)"
   ]
  },
  {
   "cell_type": "code",
   "execution_count": 37,
   "id": "94fc192a",
   "metadata": {},
   "outputs": [
    {
     "name": "stdout",
     "output_type": "stream",
     "text": [
      "['h', 1, 31.2]\n"
     ]
    }
   ],
   "source": [
    "a=[2,\"hello\",\"h\",1,31.2]  #removes the element from the list\n",
    "a.remove(\"hello\")\n",
    "a.remove(2)\n",
    "print(a)"
   ]
  },
  {
   "cell_type": "code",
   "execution_count": 44,
   "id": "e126a494",
   "metadata": {},
   "outputs": [
    {
     "data": {
      "text/plain": [
       "2"
      ]
     },
     "execution_count": 44,
     "metadata": {},
     "output_type": "execute_result"
    }
   ],
   "source": [
    "a=[2,\"hello\",\"h\",1,1,31.2]  #returns the number of the specified value in a list\n",
    "a.count(1)"
   ]
  },
  {
   "cell_type": "code",
   "execution_count": 46,
   "id": "109c9080",
   "metadata": {},
   "outputs": [
    {
     "name": "stdout",
     "output_type": "stream",
     "text": [
      "[]\n"
     ]
    }
   ],
   "source": [
    "a=[2,\"hello\",\"h\",1,1,31.2]  #removes all elements of the list\n",
    "a.clear()\n",
    "print(a)"
   ]
  },
  {
   "cell_type": "code",
   "execution_count": 48,
   "id": "ad090b2b",
   "metadata": {},
   "outputs": [
    {
     "data": {
      "text/plain": [
       "dict_values([10, 20])"
      ]
     },
     "execution_count": 48,
     "metadata": {},
     "output_type": "execute_result"
    }
   ],
   "source": [
    "details={\"rahul\":10,\"ravi\":20}  #returns the values from dictionary\n",
    "details.values()"
   ]
  },
  {
   "cell_type": "code",
   "execution_count": 50,
   "id": "f3b934bd",
   "metadata": {},
   "outputs": [
    {
     "data": {
      "text/plain": [
       "dict_keys(['rahul', 'ravi'])"
      ]
     },
     "execution_count": 50,
     "metadata": {},
     "output_type": "execute_result"
    }
   ],
   "source": [
    "details={\"rahul\":10,\"ravi\":20}\n",
    "details.keys()"
   ]
  },
  {
   "cell_type": "code",
   "execution_count": 53,
   "id": "d1dfeb6a",
   "metadata": {},
   "outputs": [
    {
     "data": {
      "text/plain": [
       "10"
      ]
     },
     "execution_count": 53,
     "metadata": {},
     "output_type": "execute_result"
    }
   ],
   "source": [
    "details={\"rahul\":10,\"ravi\":20}\n",
    "details[\"rahul\"]"
   ]
  },
  {
   "cell_type": "code",
   "execution_count": 55,
   "id": "84407854",
   "metadata": {},
   "outputs": [
    {
     "name": "stdout",
     "output_type": "stream",
     "text": [
      "{'rahul': 10, 'ravi': 20, 'jyothi': 30}\n"
     ]
    }
   ],
   "source": [
    "details={\"rahul\":10,\"ravi\":20}  #adds the elements to the dictionary\n",
    "details[\"jyothi\"]=30\n",
    "print(details)"
   ]
  },
  {
   "cell_type": "code",
   "execution_count": 56,
   "id": "2063719e",
   "metadata": {},
   "outputs": [
    {
     "name": "stdout",
     "output_type": "stream",
     "text": [
      "{}\n"
     ]
    }
   ],
   "source": [
    "details={\"rahul\":10,\"ravi\":20}\n",
    "details.clear()\n",
    "print(details)"
   ]
  }
 ],
 "metadata": {
  "kernelspec": {
   "display_name": "Python 3",
   "language": "python",
   "name": "python3"
  },
  "language_info": {
   "codemirror_mode": {
    "name": "ipython",
    "version": 3
   },
   "file_extension": ".py",
   "mimetype": "text/x-python",
   "name": "python",
   "nbconvert_exporter": "python",
   "pygments_lexer": "ipython3",
   "version": "3.8.8"
  }
 },
 "nbformat": 4,
 "nbformat_minor": 5
}
