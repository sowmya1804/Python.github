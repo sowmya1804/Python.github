{
 "cells": [
  {
   "cell_type": "markdown",
   "id": "69a3ac35",
   "metadata": {},
   "source": [
    "# reduce( )function\n",
    "   The reduce function is used to apply a particular function passed in its argument to all of the list elements mentioned in      the sequence passed along. reduce() function is defined in \"functiontools\" module.\n",
    "   syntax: reduce(function,sequence)"
   ]
  },
  {
   "cell_type": "code",
   "execution_count": 3,
   "id": "e69f2c42",
   "metadata": {},
   "outputs": [
    {
     "name": "stdout",
     "output_type": "stream",
     "text": [
      "24\n"
     ]
    }
   ],
   "source": [
    "my_list=[1,2,3,4]\n",
    "def pro(x,y):\n",
    "    return x*y\n",
    "from functools import reduce\n",
    "product = reduce(pro,my_list)\n",
    "print(product)"
   ]
  },
  {
   "cell_type": "markdown",
   "id": "137bce40",
   "metadata": {},
   "source": [
    "At first step, first two elements of sequence are picked and the result is obtained.\n",
    "Next step is to apply the same function to the previously attained result and the number just succeeding the second element and the result is again stored.\n",
    "This process continues till no more elements are left in the container.\n",
    "The final returned result is returned and printed."
   ]
  },
  {
   "cell_type": "code",
   "execution_count": 4,
   "id": "1fe93a69",
   "metadata": {},
   "outputs": [
    {
     "name": "stdout",
     "output_type": "stream",
     "text": [
      "10\n"
     ]
    }
   ],
   "source": [
    "my_list=[1,2,3,4]\n",
    "sum=reduce(lambda x,y:x+y,my_list)      # using lambda function\n",
    "print(sum)"
   ]
  },
  {
   "cell_type": "code",
   "execution_count": 6,
   "id": "e14790e3",
   "metadata": {},
   "outputs": [
    {
     "name": "stdout",
     "output_type": "stream",
     "text": [
      "8\n"
     ]
    }
   ],
   "source": [
    "my_list=[4,6,2,8,1]\n",
    "maximum=reduce(lambda x,y:x if x>y else y,my_list)\n",
    "print(maximum)"
   ]
  },
  {
   "cell_type": "markdown",
   "id": "6657203e",
   "metadata": {},
   "source": [
    "# zip() function\n",
    "   The zip() function combines the contents of two or more variables.This is an iterator of tuples where all the values you have    passed as arguments are stored as pairs.It takes an iterable such as a list,tuple,set,or dictionary as an argument.The          function will generate a list of tuples that contain elements from each iterable passed into the function.\n",
    "   syntax: zip(iterable1,iterable2,...)\n",
    "   The zip() function receives iterable objects as input and combines them into a zip() object."
   ]
  },
  {
   "cell_type": "code",
   "execution_count": 9,
   "id": "0b9e1202",
   "metadata": {},
   "outputs": [
    {
     "name": "stdout",
     "output_type": "stream",
     "text": [
      "[('Rishi', 20), ('Bhavya', 21), ('Sunny', 22), ('kriti', 22)]\n"
     ]
    }
   ],
   "source": [
    "student_name=[\"Rishi\",\"Bhavya\",\"Sunny\",\"kriti\"]\n",
    "student_age=[20,21,22,22]                             #zip()\n",
    "students_zipped=zip(student_name,student_age)\n",
    "zipped_list=list(students_zipped)\n",
    "print(zipped_list)"
   ]
  },
  {
   "cell_type": "code",
   "execution_count": 10,
   "id": "db5f3e42",
   "metadata": {},
   "outputs": [
    {
     "name": "stdout",
     "output_type": "stream",
     "text": [
      "('Rishi', 'Bhavya', 'Sunny', 'kriti')\n",
      "(20, 21, 22, 22)\n"
     ]
    }
   ],
   "source": [
    "students_zipped=[('Rishi', 20), ('Bhavya', 21), ('Sunny', 22), ('kriti', 22)]\n",
    "student_name,student_age=zip(*students_zipped)\n",
    "print(student_name)                                                                # to unzip the values \n",
    "print(student_age)"
   ]
  },
  {
   "cell_type": "markdown",
   "id": "4d98ec77",
   "metadata": {},
   "source": [
    "# enumerate() function\n",
    "   The enumerate() method adds counter to an iterable and returns it. The returned object is enumerated object.\n",
    "   enumerate parameters():\n",
    "   iterable- a sequence,an iterator,or objects that supports iteration\n",
    "   start- enumerate() starts counting from this number.If start is omitted, o is taken as start."
   ]
  },
  {
   "cell_type": "code",
   "execution_count": 14,
   "id": "af3b9197",
   "metadata": {},
   "outputs": [
    {
     "data": {
      "text/plain": [
       "enumerate"
      ]
     },
     "execution_count": 14,
     "metadata": {},
     "output_type": "execute_result"
    }
   ],
   "source": [
    "values=['a','b','c','d']\n",
    "enumerate_values=enumerate(values)\n",
    "type(enumerate_values)"
   ]
  },
  {
   "cell_type": "code",
   "execution_count": 15,
   "id": "0c3dbf76",
   "metadata": {},
   "outputs": [
    {
     "name": "stdout",
     "output_type": "stream",
     "text": [
      "[(0, 'a'), (1, 'b'), (2, 'c'), (3, 'd')]\n"
     ]
    }
   ],
   "source": [
    "print(list(enumerate_values))"
   ]
  },
  {
   "cell_type": "code",
   "execution_count": 16,
   "id": "e50c0a71",
   "metadata": {},
   "outputs": [
    {
     "name": "stdout",
     "output_type": "stream",
     "text": [
      "(0, 'a')\n",
      "(1, 'b')\n",
      "(2, 'c')\n",
      "(3, 'd')\n"
     ]
    }
   ],
   "source": [
    "values=['a','b','c','d']\n",
    "for i in enumerate(values):\n",
    "    print(i)"
   ]
  },
  {
   "cell_type": "code",
   "execution_count": 17,
   "id": "a6b5f91c",
   "metadata": {},
   "outputs": [
    {
     "name": "stdout",
     "output_type": "stream",
     "text": [
      "(1, 'a')\n",
      "(2, 'b')\n",
      "(3, 'c')\n",
      "(4, 'd')\n"
     ]
    }
   ],
   "source": [
    "for i in enumerate(values,start=1):\n",
    "    print(i)"
   ]
  }
 ],
 "metadata": {
  "kernelspec": {
   "display_name": "Python 3",
   "language": "python",
   "name": "python3"
  },
  "language_info": {
   "codemirror_mode": {
    "name": "ipython",
    "version": 3
   },
   "file_extension": ".py",
   "mimetype": "text/x-python",
   "name": "python",
   "nbconvert_exporter": "python",
   "pygments_lexer": "ipython3",
   "version": "3.8.8"
  }
 },
 "nbformat": 4,
 "nbformat_minor": 5
}
