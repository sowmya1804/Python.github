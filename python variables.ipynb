{
 "cells": [
  {
   "cell_type": "markdown",
   "id": "0258a7eb",
   "metadata": {},
   "source": [
    "# Variables"
   ]
  },
  {
   "cell_type": "code",
   "execution_count": 3,
   "id": "92f63dec",
   "metadata": {},
   "outputs": [
    {
     "name": "stdout",
     "output_type": "stream",
     "text": [
      "hello\n",
      "john\n"
     ]
    }
   ],
   "source": [
    "x=\"hello\"\n",
    "print(x)\n",
    "y=\"john\"\n",
    "print(y)"
   ]
  },
  {
   "cell_type": "code",
   "execution_count": 4,
   "id": "1c9d6b2f",
   "metadata": {},
   "outputs": [
    {
     "name": "stdout",
     "output_type": "stream",
     "text": [
      "1\n",
      "hello\n"
     ]
    }
   ],
   "source": [
    "x=1 \n",
    "print(x)\n",
    "x=\"hello\"\n",
    "print(x)"
   ]
  },
  {
   "cell_type": "markdown",
   "id": "49e8f9b0",
   "metadata": {},
   "source": [
    "# Convention for naming variables"
   ]
  },
  {
   "cell_type": "code",
   "execution_count": 5,
   "id": "30e56d57",
   "metadata": {},
   "outputs": [
    {
     "name": "stdout",
     "output_type": "stream",
     "text": [
      "5 4 6\n"
     ]
    }
   ],
   "source": [
    "age=5 \n",
    "AGE=4\n",
    "Age=6\n",
    "print(age,AGE,Age,)"
   ]
  },
  {
   "cell_type": "code",
   "execution_count": 6,
   "id": "d4cc3369",
   "metadata": {},
   "outputs": [
    {
     "name": "stdout",
     "output_type": "stream",
     "text": [
      "2 2 2 2 2 2 2\n"
     ]
    }
   ],
   "source": [
    "My_var=2 \n",
    "myvar=2\n",
    "_myvar=2\n",
    "my_var=2\n",
    "_my_var=2\n",
    "myVar=2\n",
    "myvar1=2\n",
    "print(My_var,myvar,_myvar,my_var,_my_var,myVar,myvar1)"
   ]
  },
  {
   "cell_type": "code",
   "execution_count": 9,
   "id": "565e4f99",
   "metadata": {},
   "outputs": [
    {
     "ename": "SyntaxError",
     "evalue": "invalid syntax (<ipython-input-9-9ca3616a7369>, line 1)",
     "output_type": "error",
     "traceback": [
      "\u001b[1;36m  File \u001b[1;32m\"<ipython-input-9-9ca3616a7369>\"\u001b[1;36m, line \u001b[1;32m1\u001b[0m\n\u001b[1;33m    2myvar=2\u001b[0m\n\u001b[1;37m     ^\u001b[0m\n\u001b[1;31mSyntaxError\u001b[0m\u001b[1;31m:\u001b[0m invalid syntax\n"
     ]
    }
   ],
   "source": [
    "2myvar=2\n",
    "my var=2\n",
    "my-var=2\n",
    "print(myvar,my var,my-var)"
   ]
  },
  {
   "cell_type": "markdown",
   "id": "688fad6d",
   "metadata": {},
   "source": [
    "# print() function"
   ]
  },
  {
   "cell_type": "code",
   "execution_count": 10,
   "id": "839082b2",
   "metadata": {},
   "outputs": [
    {
     "name": "stdout",
     "output_type": "stream",
     "text": [
      "hello\n"
     ]
    }
   ],
   "source": [
    "print(\"hello\")"
   ]
  },
  {
   "cell_type": "code",
   "execution_count": 11,
   "id": "47289978",
   "metadata": {},
   "outputs": [
    {
     "name": "stdout",
     "output_type": "stream",
     "text": [
      "hello\n"
     ]
    }
   ],
   "source": [
    "x=\"hello\"\n",
    "print(x)"
   ]
  },
  {
   "cell_type": "code",
   "execution_count": 12,
   "id": "a0fd7f0b",
   "metadata": {},
   "outputs": [
    {
     "name": "stdout",
     "output_type": "stream",
     "text": [
      "ajith\n",
      "kumar\n"
     ]
    }
   ],
   "source": [
    "firstname=\"ajith\" \n",
    "secondname=\"kumar\"\n",
    "print(firstname)\n",
    "print(secondname)"
   ]
  },
  {
   "cell_type": "code",
   "execution_count": 13,
   "id": "9d96b335",
   "metadata": {},
   "outputs": [
    {
     "name": "stdout",
     "output_type": "stream",
     "text": [
      "Arun-Balaji\n"
     ]
    }
   ],
   "source": [
    "firstname='Arun' \n",
    "lastname=\"Balaji\"\n",
    "print(firstname,end='-')\n",
    "print(lastname)"
   ]
  },
  {
   "cell_type": "code",
   "execution_count": 14,
   "id": "fcd6cb2d",
   "metadata": {},
   "outputs": [
    {
     "name": "stdout",
     "output_type": "stream",
     "text": [
      "i have an apple\n"
     ]
    }
   ],
   "source": [
    "fruit=\"apple\" \n",
    "print(\"i have an \"+fruit)"
   ]
  },
  {
   "cell_type": "code",
   "execution_count": 15,
   "id": "4f52563b",
   "metadata": {},
   "outputs": [
    {
     "name": "stdout",
     "output_type": "stream",
     "text": [
      "I have 2 fruits, one is apple other one is banana\n"
     ]
    }
   ],
   "source": [
    "fruit1=\"apple\" \n",
    "fruit2=\"banana\"\n",
    "print(\"I have 2 fruits, one is \"+fruit1+\" other one is \"+fruit2)"
   ]
  },
  {
   "cell_type": "code",
   "execution_count": 16,
   "id": "201dd6b8",
   "metadata": {},
   "outputs": [
    {
     "name": "stdout",
     "output_type": "stream",
     "text": [
      "i have 2 fruits, one is apple other one is banana\n"
     ]
    }
   ],
   "source": [
    "fruit1=\"apple\"\n",
    "fruit2=\"banana\"\n",
    "print(\"i have 2 fruits, one is {} other one is {}\".format(fruit1,fruit2))"
   ]
  },
  {
   "cell_type": "code",
   "execution_count": 17,
   "id": "2585d4e0",
   "metadata": {},
   "outputs": [
    {
     "name": "stdout",
     "output_type": "stream",
     "text": [
      "i have 2 fruits, one is banana other one is apple\n"
     ]
    }
   ],
   "source": [
    "fruit1=\"apple\" \n",
    "fruit2=\"banana\"\n",
    "print(\"i have 2 fruits, one is {1} other one is {0}\".format(fruit1,fruit2))"
   ]
  },
  {
   "cell_type": "markdown",
   "id": "87f6ea8e",
   "metadata": {},
   "source": [
    "# Comments"
   ]
  },
  {
   "cell_type": "code",
   "execution_count": 19,
   "id": "761b54c0",
   "metadata": {},
   "outputs": [
    {
     "name": "stdout",
     "output_type": "stream",
     "text": [
      "hello\n"
     ]
    }
   ],
   "source": [
    "#this is a comment\n",
    "print(\"hello\")"
   ]
  },
  {
   "cell_type": "code",
   "execution_count": 20,
   "id": "d5694d8d",
   "metadata": {},
   "outputs": [
    {
     "name": "stdout",
     "output_type": "stream",
     "text": [
      "hello\n"
     ]
    }
   ],
   "source": [
    "print(\"hello\") #this is a comment"
   ]
  },
  {
   "cell_type": "code",
   "execution_count": 22,
   "id": "cc03fd42",
   "metadata": {},
   "outputs": [
    {
     "name": "stdout",
     "output_type": "stream",
     "text": [
      "hello\n",
      "world\n"
     ]
    }
   ],
   "source": [
    "print(\"hello\")\n",
    "#this is a comment\n",
    "print(\"world\")"
   ]
  },
  {
   "cell_type": "code",
   "execution_count": 23,
   "id": "6930fecd",
   "metadata": {},
   "outputs": [
    {
     "name": "stdout",
     "output_type": "stream",
     "text": [
      "hello\n"
     ]
    }
   ],
   "source": [
    "#iam\n",
    "#a\n",
    "#multiline\n",
    "#comment\n",
    "print(\"hello\")"
   ]
  },
  {
   "cell_type": "code",
   "execution_count": 24,
   "id": "8814374d",
   "metadata": {},
   "outputs": [
    {
     "name": "stdout",
     "output_type": "stream",
     "text": [
      "hello\n"
     ]
    }
   ],
   "source": [
    "'''\n",
    "iam a \n",
    "multiline \n",
    "comment\n",
    "'''\n",
    "print(\"hello\")"
   ]
  },
  {
   "cell_type": "code",
   "execution_count": 25,
   "id": "7a5f5609",
   "metadata": {},
   "outputs": [
    {
     "name": "stdout",
     "output_type": "stream",
     "text": [
      "hello\n"
     ]
    }
   ],
   "source": [
    "\"\"\"\n",
    "iam a \n",
    "multiline \n",
    "comment\n",
    "\"\"\"\n",
    "print(\"hello\")"
   ]
  },
  {
   "cell_type": "markdown",
   "id": "b819ba5d",
   "metadata": {},
   "source": [
    "# input() function"
   ]
  },
  {
   "cell_type": "code",
   "execution_count": 26,
   "id": "479e5988",
   "metadata": {},
   "outputs": [
    {
     "name": "stdout",
     "output_type": "stream",
     "text": [
      "enter your name:arun\n",
      "hello arun\n"
     ]
    }
   ],
   "source": [
    "name=input(\"enter your name:\")\n",
    "print(\"hello \"+name)"
   ]
  },
  {
   "cell_type": "code",
   "execution_count": 27,
   "id": "76ab6e11",
   "metadata": {},
   "outputs": [
    {
     "name": "stdout",
     "output_type": "stream",
     "text": [
      "enter 1st number:2\n",
      "enter 2nd number:4\n",
      "24\n"
     ]
    }
   ],
   "source": [
    "num1=input(\"enter 1st number:\") \n",
    "num2=input(\"enter 2nd number:\")\n",
    "num3=num1+num2\n",
    "print(num3)"
   ]
  }
 ],
 "metadata": {
  "kernelspec": {
   "display_name": "Python 3",
   "language": "python",
   "name": "python3"
  },
  "language_info": {
   "codemirror_mode": {
    "name": "ipython",
    "version": 3
   },
   "file_extension": ".py",
   "mimetype": "text/x-python",
   "name": "python",
   "nbconvert_exporter": "python",
   "pygments_lexer": "ipython3",
   "version": "3.8.8"
  }
 },
 "nbformat": 4,
 "nbformat_minor": 5
}
