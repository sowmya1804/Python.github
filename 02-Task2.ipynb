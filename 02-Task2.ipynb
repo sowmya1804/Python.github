{
 "cells": [
  {
   "cell_type": "code",
   "execution_count": 9,
   "id": "0efc1b44",
   "metadata": {},
   "outputs": [
    {
     "name": "stdout",
     "output_type": "stream",
     "text": [
      "\"to\" is present in \"welcome to python\"\n"
     ]
    }
   ],
   "source": [
    "str1=\"welcome to python\"      # using in operator\n",
    "substr1=\"to\"\n",
    "if(substr1 in str1):\n",
    "    print('\"to\" is present in \"welcome to python\"')\n",
    "else:\n",
    "    print('\"to\" is not present in \"welcome to python\"')"
   ]
  }
 ],
 "metadata": {
  "kernelspec": {
   "display_name": "Python 3",
   "language": "python",
   "name": "python3"
  },
  "language_info": {
   "codemirror_mode": {
    "name": "ipython",
    "version": 3
   },
   "file_extension": ".py",
   "mimetype": "text/x-python",
   "name": "python",
   "nbconvert_exporter": "python",
   "pygments_lexer": "ipython3",
   "version": "3.8.8"
  }
 },
 "nbformat": 4,
 "nbformat_minor": 5
}
