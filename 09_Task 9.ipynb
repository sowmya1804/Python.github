{
 "cells": [
  {
   "cell_type": "markdown",
   "id": "7889a062",
   "metadata": {},
   "source": [
    "# Mathematical operators"
   ]
  },
  {
   "cell_type": "code",
   "execution_count": 1,
   "id": "78bd8139",
   "metadata": {},
   "outputs": [
    {
     "name": "stdout",
     "output_type": "stream",
     "text": [
      "enter 1st number:4\n",
      "enter 2nd number:4\n",
      "enter which operation to perform:\n",
      "press:1 for addition,2 for subtraction,3 for multiplicaton,4 for division3\n",
      "4 * 4 : 16\n"
     ]
    }
   ],
   "source": [
    "num1=int(input(\"enter 1st number:\"))\n",
    "num2=int(input(\"enter 2nd number:\"))\n",
    "print(\"enter which operation to perform:\")\n",
    "char=input(\"press:1 for addition,2 for subtraction,3 for multiplicaton,4 for division\")\n",
    "result=0\n",
    "if(char == '1'):\n",
    "    result=num1+num2\n",
    "    print(num1, \"+\", num2, \":\", result)\n",
    "elif(char == '2'):\n",
    "    result=num1-num2;\n",
    "    print(num1, \"-\", num2, \":\", result)\n",
    "elif(char == '3'):\n",
    "    result=num1*num2;\n",
    "    print(num1, \"*\", num2, \":\", result)\n",
    "elif(char == '4'):\n",
    "    result=num1/num2;\n",
    "    print(num1, \"/\", num2, \":\", result)\n",
    "else:\n",
    "    print(\"input character is not recognized\")"
   ]
  }
 ],
 "metadata": {
  "kernelspec": {
   "display_name": "Python 3",
   "language": "python",
   "name": "python3"
  },
  "language_info": {
   "codemirror_mode": {
    "name": "ipython",
    "version": 3
   },
   "file_extension": ".py",
   "mimetype": "text/x-python",
   "name": "python",
   "nbconvert_exporter": "python",
   "pygments_lexer": "ipython3",
   "version": "3.8.8"
  }
 },
 "nbformat": 4,
 "nbformat_minor": 5
}
